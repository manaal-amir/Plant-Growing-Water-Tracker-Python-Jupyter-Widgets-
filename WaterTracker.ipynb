{
  "nbformat": 4,
  "nbformat_minor": 0,
  "metadata": {
    "colab": {
      "provenance": [],
      "authorship_tag": "ABX9TyMX04F2Ex73W/oGroKtpR3H",
      "include_colab_link": true
    },
    "kernelspec": {
      "name": "python3",
      "display_name": "Python 3"
    },
    "language_info": {
      "name": "python"
    }
  },
  "cells": [
    {
      "cell_type": "markdown",
      "metadata": {
        "id": "view-in-github",
        "colab_type": "text"
      },
      "source": [
        "<a href=\"https://colab.research.google.com/github/manaal-amir/Plant-Growing-Water-Tracker-Python-Jupyter-Widgets-/blob/main/WaterTracker.ipynb\" target=\"_parent\"><img src=\"https://colab.research.google.com/assets/colab-badge.svg\" alt=\"Open In Colab\"/></a>"
      ]
    },
    {
      "cell_type": "code",
      "source": [
        "from IPython.display import display, clear_output\n",
        "import ipywidgets as widgets\n",
        "\n",
        "#Set your daily watering goal (number of times to water your plant)\n",
        "DAILY_GOAL = 8\n",
        "\n",
        "#Tracker state\n",
        "water_given = 0\n",
        "\n",
        "#Widgets\n",
        "water_button = widgets.Button(description=\"💧 Water the Plant!\", button_style='success')\n",
        "reset_button = widgets.Button(description=\"🔁 Reset Plant\")\n",
        "output = widgets.Output()\n",
        "\n",
        "def get_progress_bar(current, total):\n",
        "    percent = int((current / total) * 100)\n",
        "    bar = \"🌱\" * (percent // 10) + \" \" * (10 - percent // 10)\n",
        "    return f\"[{bar}] {percent}%\"\n",
        "\n",
        "def update_display():\n",
        "    output.clear_output()\n",
        "    with output:\n",
        "        print(f\"Water given: {water_given}/{DAILY_GOAL} times\")\n",
        "        print(get_progress_bar(water_given, DAILY_GOAL))\n",
        "\n",
        "        if water_given == 0:\n",
        "            print(\"Your plant is just a seed. Time to water it! 🌰\")\n",
        "        elif water_given < DAILY_GOAL // 3:\n",
        "            print(\"Your plant is sprouting! Keep watering! 🌿\")\n",
        "        elif water_given < DAILY_GOAL:\n",
        "            print(\"Your plant is growing strong! Almost there! 🌳\")\n",
        "        else:\n",
        "            print(\"Your plant is fully grown and blooming! 🌻🌼 Great job!\")\n",
        "\n",
        "def water_plant(b):\n",
        "    global water_given\n",
        "    if water_given < DAILY_GOAL:\n",
        "        water_given += 1\n",
        "    update_display()\n",
        "\n",
        "def reset_plant(b):\n",
        "    global water_given\n",
        "    water_given = 0\n",
        "    update_display()\n",
        "\n",
        "#Button actions\n",
        "water_button.on_click(water_plant)\n",
        "reset_button.on_click(reset_plant)\n",
        "\n",
        "#Display UI\n",
        "display(water_button, reset_button, output)\n",
        "update_display()\n"
      ],
      "metadata": {
        "id": "-g8PJfT_ylA6"
      },
      "execution_count": null,
      "outputs": []
    }
  ]
}