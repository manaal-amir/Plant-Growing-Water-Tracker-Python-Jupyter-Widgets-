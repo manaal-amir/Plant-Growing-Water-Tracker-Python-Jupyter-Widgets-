{
  "nbformat": 4,
  "nbformat_minor": 0,
  "metadata": {
    "colab": {
      "provenance": [],
      "authorship_tag": "ABX9TyPqC97b2xafD53N5ysxPBoT",
      "include_colab_link": true
    },
    "kernelspec": {
      "name": "python3",
      "display_name": "Python 3"
    },
    "language_info": {
      "name": "python"
    },
    "widgets": {
      "application/vnd.jupyter.widget-state+json": {
        "2a11e7d5297445b0a10c96639c8acfda": {
          "model_module": "@jupyter-widgets/controls",
          "model_name": "ButtonModel",
          "model_module_version": "1.5.0",
          "state": {
            "_dom_classes": [],
            "_model_module": "@jupyter-widgets/controls",
            "_model_module_version": "1.5.0",
            "_model_name": "ButtonModel",
            "_view_count": null,
            "_view_module": "@jupyter-widgets/controls",
            "_view_module_version": "1.5.0",
            "_view_name": "ButtonView",
            "button_style": "success",
            "description": "💧 Water the Plant!",
            "disabled": false,
            "icon": "",
            "layout": "IPY_MODEL_506ffaf390c44999a8d90e4faf27d70e",
            "style": "IPY_MODEL_75b86343663344ac935d68aab5615386",
            "tooltip": ""
          }
        },
        "506ffaf390c44999a8d90e4faf27d70e": {
          "model_module": "@jupyter-widgets/base",
          "model_name": "LayoutModel",
          "model_module_version": "1.2.0",
          "state": {
            "_model_module": "@jupyter-widgets/base",
            "_model_module_version": "1.2.0",
            "_model_name": "LayoutModel",
            "_view_count": null,
            "_view_module": "@jupyter-widgets/base",
            "_view_module_version": "1.2.0",
            "_view_name": "LayoutView",
            "align_content": null,
            "align_items": null,
            "align_self": null,
            "border": null,
            "bottom": null,
            "display": null,
            "flex": null,
            "flex_flow": null,
            "grid_area": null,
            "grid_auto_columns": null,
            "grid_auto_flow": null,
            "grid_auto_rows": null,
            "grid_column": null,
            "grid_gap": null,
            "grid_row": null,
            "grid_template_areas": null,
            "grid_template_columns": null,
            "grid_template_rows": null,
            "height": null,
            "justify_content": null,
            "justify_items": null,
            "left": null,
            "margin": null,
            "max_height": null,
            "max_width": null,
            "min_height": null,
            "min_width": null,
            "object_fit": null,
            "object_position": null,
            "order": null,
            "overflow": null,
            "overflow_x": null,
            "overflow_y": null,
            "padding": null,
            "right": null,
            "top": null,
            "visibility": null,
            "width": null
          }
        },
        "75b86343663344ac935d68aab5615386": {
          "model_module": "@jupyter-widgets/controls",
          "model_name": "ButtonStyleModel",
          "model_module_version": "1.5.0",
          "state": {
            "_model_module": "@jupyter-widgets/controls",
            "_model_module_version": "1.5.0",
            "_model_name": "ButtonStyleModel",
            "_view_count": null,
            "_view_module": "@jupyter-widgets/base",
            "_view_module_version": "1.2.0",
            "_view_name": "StyleView",
            "button_color": null,
            "font_weight": ""
          }
        },
        "8b42753249924f7e87f86e2f75f3e2e8": {
          "model_module": "@jupyter-widgets/controls",
          "model_name": "ButtonModel",
          "model_module_version": "1.5.0",
          "state": {
            "_dom_classes": [],
            "_model_module": "@jupyter-widgets/controls",
            "_model_module_version": "1.5.0",
            "_model_name": "ButtonModel",
            "_view_count": null,
            "_view_module": "@jupyter-widgets/controls",
            "_view_module_version": "1.5.0",
            "_view_name": "ButtonView",
            "button_style": "",
            "description": "🔁 Reset Plant",
            "disabled": false,
            "icon": "",
            "layout": "IPY_MODEL_941b8d4bf8d04da285475a871c6c76de",
            "style": "IPY_MODEL_9edd6b308c8a4f4fbd7009e24cbddb4a",
            "tooltip": ""
          }
        },
        "941b8d4bf8d04da285475a871c6c76de": {
          "model_module": "@jupyter-widgets/base",
          "model_name": "LayoutModel",
          "model_module_version": "1.2.0",
          "state": {
            "_model_module": "@jupyter-widgets/base",
            "_model_module_version": "1.2.0",
            "_model_name": "LayoutModel",
            "_view_count": null,
            "_view_module": "@jupyter-widgets/base",
            "_view_module_version": "1.2.0",
            "_view_name": "LayoutView",
            "align_content": null,
            "align_items": null,
            "align_self": null,
            "border": null,
            "bottom": null,
            "display": null,
            "flex": null,
            "flex_flow": null,
            "grid_area": null,
            "grid_auto_columns": null,
            "grid_auto_flow": null,
            "grid_auto_rows": null,
            "grid_column": null,
            "grid_gap": null,
            "grid_row": null,
            "grid_template_areas": null,
            "grid_template_columns": null,
            "grid_template_rows": null,
            "height": null,
            "justify_content": null,
            "justify_items": null,
            "left": null,
            "margin": null,
            "max_height": null,
            "max_width": null,
            "min_height": null,
            "min_width": null,
            "object_fit": null,
            "object_position": null,
            "order": null,
            "overflow": null,
            "overflow_x": null,
            "overflow_y": null,
            "padding": null,
            "right": null,
            "top": null,
            "visibility": null,
            "width": null
          }
        },
        "9edd6b308c8a4f4fbd7009e24cbddb4a": {
          "model_module": "@jupyter-widgets/controls",
          "model_name": "ButtonStyleModel",
          "model_module_version": "1.5.0",
          "state": {
            "_model_module": "@jupyter-widgets/controls",
            "_model_module_version": "1.5.0",
            "_model_name": "ButtonStyleModel",
            "_view_count": null,
            "_view_module": "@jupyter-widgets/base",
            "_view_module_version": "1.2.0",
            "_view_name": "StyleView",
            "button_color": null,
            "font_weight": ""
          }
        },
        "af18b20eea484cb2a6384ac2de8a31a7": {
          "model_module": "@jupyter-widgets/output",
          "model_name": "OutputModel",
          "model_module_version": "1.0.0",
          "state": {
            "_dom_classes": [],
            "_model_module": "@jupyter-widgets/output",
            "_model_module_version": "1.0.0",
            "_model_name": "OutputModel",
            "_view_count": null,
            "_view_module": "@jupyter-widgets/output",
            "_view_module_version": "1.0.0",
            "_view_name": "OutputView",
            "layout": "IPY_MODEL_edf2cd81125845f983ecf17bef8eb344",
            "msg_id": "",
            "outputs": [
              {
                "output_type": "stream",
                "name": "stdout",
                "text": [
                  "Water given: 8/8 times\n",
                  "[🌱🌱🌱🌱🌱🌱🌱🌱🌱🌱] 100%\n",
                  "Your plant is fully grown and blooming! 🌻🌼 Great job!\n"
                ]
              }
            ]
          }
        },
        "edf2cd81125845f983ecf17bef8eb344": {
          "model_module": "@jupyter-widgets/base",
          "model_name": "LayoutModel",
          "model_module_version": "1.2.0",
          "state": {
            "_model_module": "@jupyter-widgets/base",
            "_model_module_version": "1.2.0",
            "_model_name": "LayoutModel",
            "_view_count": null,
            "_view_module": "@jupyter-widgets/base",
            "_view_module_version": "1.2.0",
            "_view_name": "LayoutView",
            "align_content": null,
            "align_items": null,
            "align_self": null,
            "border": null,
            "bottom": null,
            "display": null,
            "flex": null,
            "flex_flow": null,
            "grid_area": null,
            "grid_auto_columns": null,
            "grid_auto_flow": null,
            "grid_auto_rows": null,
            "grid_column": null,
            "grid_gap": null,
            "grid_row": null,
            "grid_template_areas": null,
            "grid_template_columns": null,
            "grid_template_rows": null,
            "height": null,
            "justify_content": null,
            "justify_items": null,
            "left": null,
            "margin": null,
            "max_height": null,
            "max_width": null,
            "min_height": null,
            "min_width": null,
            "object_fit": null,
            "object_position": null,
            "order": null,
            "overflow": null,
            "overflow_x": null,
            "overflow_y": null,
            "padding": null,
            "right": null,
            "top": null,
            "visibility": null,
            "width": null
          }
        }
      }
    }
  },
  "cells": [
    {
      "cell_type": "markdown",
      "metadata": {
        "id": "view-in-github",
        "colab_type": "text"
      },
      "source": [
        "<a href=\"https://colab.research.google.com/github/manaal-amir/Plant-Growing-Water-Tracker-Python-Jupyter-Widgets-/blob/main/WaterTrackerPlant.ipynb\" target=\"_parent\"><img src=\"https://colab.research.google.com/assets/colab-badge.svg\" alt=\"Open In Colab\"/></a>"
      ]
    },
    {
      "cell_type": "code",
      "execution_count": 1,
      "metadata": {
        "colab": {
          "base_uri": "https://localhost:8080/",
          "height": 133,
          "referenced_widgets": [
            "2a11e7d5297445b0a10c96639c8acfda",
            "506ffaf390c44999a8d90e4faf27d70e",
            "75b86343663344ac935d68aab5615386",
            "8b42753249924f7e87f86e2f75f3e2e8",
            "941b8d4bf8d04da285475a871c6c76de",
            "9edd6b308c8a4f4fbd7009e24cbddb4a",
            "af18b20eea484cb2a6384ac2de8a31a7",
            "edf2cd81125845f983ecf17bef8eb344"
          ]
        },
        "id": "GDjtxmCaz_vD",
        "outputId": "99250cf6-2e33-4ad4-b351-a091efe18e01"
      },
      "outputs": [
        {
          "output_type": "display_data",
          "data": {
            "text/plain": [
              "Button(button_style='success', description='💧 Water the Plant!', style=ButtonStyle())"
            ],
            "application/vnd.jupyter.widget-view+json": {
              "version_major": 2,
              "version_minor": 0,
              "model_id": "2a11e7d5297445b0a10c96639c8acfda"
            }
          },
          "metadata": {}
        },
        {
          "output_type": "display_data",
          "data": {
            "text/plain": [
              "Button(description='🔁 Reset Plant', style=ButtonStyle())"
            ],
            "application/vnd.jupyter.widget-view+json": {
              "version_major": 2,
              "version_minor": 0,
              "model_id": "8b42753249924f7e87f86e2f75f3e2e8"
            }
          },
          "metadata": {}
        },
        {
          "output_type": "display_data",
          "data": {
            "text/plain": [
              "Output()"
            ],
            "application/vnd.jupyter.widget-view+json": {
              "version_major": 2,
              "version_minor": 0,
              "model_id": "af18b20eea484cb2a6384ac2de8a31a7"
            }
          },
          "metadata": {}
        }
      ],
      "source": [
        "from IPython.display import display, clear_output\n",
        "import ipywidgets as widgets\n",
        "\n",
        "# Set your daily watering goal (number of times to water your plant)\n",
        "DAILY_GOAL = 8\n",
        "\n",
        "# Tracker state\n",
        "water_given = 0\n",
        "\n",
        "# Widgets\n",
        "water_button = widgets.Button(description=\"💧 Water the Plant!\", button_style='success')\n",
        "reset_button = widgets.Button(description=\"🔁 Reset Plant\")\n",
        "output = widgets.Output()\n",
        "\n",
        "def get_progress_bar(current, total):\n",
        "    percent = int((current / total) * 100)\n",
        "    bar = \"🌱\" * (percent // 10) + \" \" * (10 - percent // 10)\n",
        "    return f\"[{bar}] {percent}%\"\n",
        "\n",
        "def update_display():\n",
        "    output.clear_output()\n",
        "    with output:\n",
        "        print(f\"Water given: {water_given}/{DAILY_GOAL} times\")\n",
        "        print(get_progress_bar(water_given, DAILY_GOAL))\n",
        "\n",
        "        if water_given == 0:\n",
        "            print(\"Your plant is just a seed. Time to water it! 🌰\")\n",
        "        elif water_given < DAILY_GOAL // 3:\n",
        "            print(\"Your plant is sprouting! Keep watering! 🌿\")\n",
        "        elif water_given < DAILY_GOAL:\n",
        "            print(\"Your plant is growing strong! Almost there! 🌳\")\n",
        "        else:\n",
        "            print(\"Your plant is fully grown and blooming! 🌻🌼 Great job!\")\n",
        "\n",
        "def water_plant(b):\n",
        "    global water_given\n",
        "    if water_given < DAILY_GOAL:\n",
        "        water_given += 1\n",
        "    update_display()\n",
        "\n",
        "def reset_plant(b):\n",
        "    global water_given\n",
        "    water_given = 0\n",
        "    update_display()\n",
        "\n",
        "# Button actions\n",
        "water_button.on_click(water_plant)\n",
        "reset_button.on_click(reset_plant)\n",
        "\n",
        "# Display UI\n",
        "display(water_button, reset_button, output)\n",
        "update_display()\n"
      ]
    }
  ]
}